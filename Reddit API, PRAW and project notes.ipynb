{
 "metadata": {
  "name": "",
  "signature": "sha256:164926fb6de7fd23043deac53eea0c96155fdbe73058c6acf230c7b1bda2944f"
 },
 "nbformat": 3,
 "nbformat_minor": 0,
 "worksheets": [
  {
   "cells": [
    {
     "cell_type": "heading",
     "level": 1,
     "metadata": {},
     "source": [
      "Keyword tracking with Reddit API and PRAW (Python wrapper)"
     ]
    },
    {
     "cell_type": "markdown",
     "metadata": {},
     "source": [
      "Github for PRAW with installation instructions: https://github.com/praw-dev/praw"
     ]
    },
    {
     "cell_type": "code",
     "collapsed": false,
     "input": [
      "import praw"
     ],
     "language": "python",
     "metadata": {},
     "outputs": [],
     "prompt_number": 4
    },
    {
     "cell_type": "markdown",
     "metadata": {},
     "source": [
      "- provide a <a href=\"https://github.com/reddit/reddit/wiki/API\">detailed description</a> when making an API request"
     ]
    },
    {
     "cell_type": "code",
     "collapsed": false,
     "input": [
      "user_agent = (\"MacOS: Refugee crisis-related activity monitor by /u/lapropriu:v1.0\")"
     ],
     "language": "python",
     "metadata": {},
     "outputs": [],
     "prompt_number": 6
    },
    {
     "cell_type": "markdown",
     "metadata": {},
     "source": [
      "- initialize reddit object"
     ]
    },
    {
     "cell_type": "code",
     "collapsed": false,
     "input": [
      "r = praw.Reddit(user_agent)"
     ],
     "language": "python",
     "metadata": {},
     "outputs": [],
     "prompt_number": 7
    },
    {
     "cell_type": "markdown",
     "metadata": {},
     "source": [
      "- retrieving newest posts related to the refugee crisis in Europe by simple keyword search.\n",
      "- by default, reddit's search function looks both in post titles and post texts. It's possible to search in comments, but I won't do that for now.\n",
      "- reddit's search function does some form of stemming automatically.\n",
      "- Reddit limits the number of posts it will return in a search to 1,000. To get all of them in a given timeframe, I'll have to use <a href=\"https://www.reddit.com/wiki/search\">Amazon cloud search format</a> to limit by timeframe"
     ]
    },
    {
     "cell_type": "code",
     "collapsed": false,
     "input": [
      "query = \"refugee OR immigrant OR migrant OR (asylum seeker)\""
     ],
     "language": "python",
     "metadata": {},
     "outputs": [],
     "prompt_number": 8
    },
    {
     "cell_type": "markdown",
     "metadata": {},
     "source": [
      "- retrieve the most recent posts like so (note that this returns a Python generator):"
     ]
    },
    {
     "cell_type": "code",
     "collapsed": false,
     "input": [
      "# posts = list(r.search(query, subreddit='europe', sort='new',limit=None))"
     ],
     "language": "python",
     "metadata": {},
     "outputs": [],
     "prompt_number": 9
    },
    {
     "cell_type": "markdown",
     "metadata": {},
     "source": [
      "- I'll actually load from file though, to limit number of requests to API and for reproducibility"
     ]
    },
    {
     "cell_type": "code",
     "collapsed": false,
     "input": [
      "import cPickle as pickle\n",
      "posts = pickle.load( open( \"/Users/acasa/tools/europe_subreddit_immigrants_new_09.18.2015\", \"rb\" ) ) "
     ],
     "language": "python",
     "metadata": {},
     "outputs": [],
     "prompt_number": 10
    },
    {
     "cell_type": "heading",
     "level": 3,
     "metadata": {},
     "source": [
      "Data format"
     ]
    },
    {
     "cell_type": "code",
     "collapsed": false,
     "input": [
      "dir(posts[0])"
     ],
     "language": "python",
     "metadata": {},
     "outputs": [
      {
       "metadata": {},
       "output_type": "pyout",
       "prompt_number": 11,
       "text": [
        "['__class__',\n",
        " '__delattr__',\n",
        " '__dict__',\n",
        " '__doc__',\n",
        " '__eq__',\n",
        " '__format__',\n",
        " '__getattr__',\n",
        " '__getattribute__',\n",
        " '__getstate__',\n",
        " '__hash__',\n",
        " '__init__',\n",
        " '__module__',\n",
        " '__ne__',\n",
        " '__new__',\n",
        " '__reduce__',\n",
        " '__reduce_ex__',\n",
        " '__repr__',\n",
        " '__setattr__',\n",
        " '__sizeof__',\n",
        " '__str__',\n",
        " '__subclasshook__',\n",
        " '__unicode__',\n",
        " '__weakref__',\n",
        " '_api_link',\n",
        " '_comment_sort',\n",
        " '_comments',\n",
        " '_comments_by_id',\n",
        " '_extract_more_comments',\n",
        " '_get_json_dict',\n",
        " '_has_fetched',\n",
        " '_info_url',\n",
        " '_insert_comment',\n",
        " '_methods',\n",
        " '_orphaned',\n",
        " '_params',\n",
        " '_populate',\n",
        " '_post_populate',\n",
        " '_replaced_more',\n",
        " '_underscore_names',\n",
        " '_uniq',\n",
        " '_update_comments',\n",
        " 'add_comment',\n",
        " 'approve',\n",
        " 'approved_by',\n",
        " 'archived',\n",
        " 'author',\n",
        " 'author_flair_css_class',\n",
        " 'author_flair_text',\n",
        " 'banned_by',\n",
        " 'clear_vote',\n",
        " 'clicked',\n",
        " 'comments',\n",
        " 'created',\n",
        " 'created_utc',\n",
        " 'delete',\n",
        " 'distinguish',\n",
        " 'distinguished',\n",
        " 'domain',\n",
        " 'downs',\n",
        " 'downvote',\n",
        " 'edit',\n",
        " 'edited',\n",
        " 'from',\n",
        " 'from_api_response',\n",
        " 'from_id',\n",
        " 'from_json',\n",
        " 'from_kind',\n",
        " 'from_url',\n",
        " 'fullname',\n",
        " 'get_duplicates',\n",
        " 'get_flair_choices',\n",
        " 'gild',\n",
        " 'gilded',\n",
        " 'has_fetched',\n",
        " 'hidden',\n",
        " 'hide',\n",
        " 'hide_score',\n",
        " 'id',\n",
        " 'ignore_reports',\n",
        " 'is_self',\n",
        " 'json_dict',\n",
        " 'likes',\n",
        " 'link_flair_css_class',\n",
        " 'link_flair_text',\n",
        " 'mark_as_nsfw',\n",
        " 'media',\n",
        " 'media_embed',\n",
        " 'mod_reports',\n",
        " 'name',\n",
        " 'num_comments',\n",
        " 'num_reports',\n",
        " 'over_18',\n",
        " 'permalink',\n",
        " 'quarantine',\n",
        " 'reddit_session',\n",
        " 'refresh',\n",
        " 'removal_reason',\n",
        " 'remove',\n",
        " 'replace_more_comments',\n",
        " 'report',\n",
        " 'report_reasons',\n",
        " 'save',\n",
        " 'saved',\n",
        " 'score',\n",
        " 'secure_media',\n",
        " 'secure_media_embed',\n",
        " 'select_flair',\n",
        " 'selftext',\n",
        " 'selftext_html',\n",
        " 'set_contest_mode',\n",
        " 'set_flair',\n",
        " 'set_suggested_sort',\n",
        " 'short_link',\n",
        " 'stickied',\n",
        " 'sticky',\n",
        " 'subreddit',\n",
        " 'subreddit_id',\n",
        " 'suggested_sort',\n",
        " 'thumbnail',\n",
        " 'title',\n",
        " 'undistinguish',\n",
        " 'unhide',\n",
        " 'unignore_reports',\n",
        " 'unmark_as_nsfw',\n",
        " 'unsave',\n",
        " 'unset_contest_mode',\n",
        " 'unsticky',\n",
        " 'ups',\n",
        " 'upvote',\n",
        " 'url',\n",
        " 'user_reports',\n",
        " 'visited',\n",
        " 'vote']"
       ]
      }
     ],
     "prompt_number": 11
    },
    {
     "cell_type": "markdown",
     "metadata": {},
     "source": [
      "- first post is a link post, so no text in the body"
     ]
    },
    {
     "cell_type": "code",
     "collapsed": false,
     "input": [
      "posts[0].title"
     ],
     "language": "python",
     "metadata": {},
     "outputs": [
      {
       "metadata": {},
       "output_type": "pyout",
       "prompt_number": 12,
       "text": [
        "u\"Hungary 'seizes Croatian train carrying refugees'\""
       ]
      }
     ],
     "prompt_number": 12
    },
    {
     "cell_type": "code",
     "collapsed": true,
     "input": [
      "posts[0].selftext"
     ],
     "language": "python",
     "metadata": {},
     "outputs": [
      {
       "metadata": {},
       "output_type": "pyout",
       "prompt_number": 14,
       "text": [
        "u''"
       ]
      }
     ],
     "prompt_number": 14
    },
    {
     "cell_type": "code",
     "collapsed": false,
     "input": [
      "posts[0].url"
     ],
     "language": "python",
     "metadata": {},
     "outputs": [
      {
       "metadata": {},
       "output_type": "pyout",
       "prompt_number": 16,
       "text": [
        "u'http://www.itv.com/news/story/2015-09-18/hungary-seizes-croatian-train-carrying-refugees/'"
       ]
      }
     ],
     "prompt_number": 16
    },
    {
     "cell_type": "code",
     "collapsed": false,
     "input": [
      "posts[500].selftext"
     ],
     "language": "python",
     "metadata": {},
     "outputs": [
      {
       "metadata": {},
       "output_type": "pyout",
       "prompt_number": 23,
       "text": [
        "u''"
       ]
      }
     ],
     "prompt_number": 23
    },
    {
     "cell_type": "markdown",
     "metadata": {},
     "source": [
      "- funny how most of these are links with no text in the body. Out of 989, only 141 are text posts."
     ]
    },
    {
     "cell_type": "code",
     "collapsed": false,
     "input": [
      "len([i for i in range(len(posts)) if posts[i].selftext])"
     ],
     "language": "python",
     "metadata": {},
     "outputs": [
      {
       "metadata": {},
       "output_type": "pyout",
       "prompt_number": 28,
       "text": [
        "141"
       ]
      }
     ],
     "prompt_number": 28
    },
    {
     "cell_type": "code",
     "collapsed": false,
     "input": [
      "posts[29].url"
     ],
     "language": "python",
     "metadata": {},
     "outputs": [
      {
       "metadata": {},
       "output_type": "pyout",
       "prompt_number": 29,
       "text": [
        "u'http://www.reddit.com/r/europe/comments/3lf2e7/central_and_easteuropeans_are_you_insulted_by/'"
       ]
      }
     ],
     "prompt_number": 29
    },
    {
     "cell_type": "code",
     "collapsed": false,
     "input": [
      "posts[29].selftext"
     ],
     "language": "python",
     "metadata": {},
     "outputs": [
      {
       "metadata": {},
       "output_type": "pyout",
       "prompt_number": 27,
       "text": [
        "u\"Well, I know migration is generally not something your country wants anyway, but I wonder to what degree you're insulted or offended by these migrants saying your country is not good enough.\\n\\nPersonally I feel 20 years ago, the migrants would have been right to skip those, but today Hungary and Croatia/Slovenia seem perfectly good countries to live. The economy is not great, but still.\""
       ]
      }
     ],
     "prompt_number": 27
    },
    {
     "cell_type": "markdown",
     "metadata": {},
     "source": [
      "- post submission timestamps are in unix format"
     ]
    },
    {
     "cell_type": "code",
     "collapsed": false,
     "input": [
      "posts[29].created"
     ],
     "language": "python",
     "metadata": {},
     "outputs": [
      {
       "metadata": {},
       "output_type": "pyout",
       "prompt_number": 30,
       "text": [
        "1442602932.0"
       ]
      }
     ],
     "prompt_number": 30
    },
    {
     "cell_type": "code",
     "collapsed": false,
     "input": [
      "import time\n",
      "newest_timestamp = time.gmtime(posts[0].created)\n",
      "time.strftime(\"%a, %d %b %Y %H:%M:%S\", newest_timestamp)"
     ],
     "language": "python",
     "metadata": {},
     "outputs": [
      {
       "metadata": {},
       "output_type": "pyout",
       "prompt_number": 42,
       "text": [
        "'Sat, 19 Sep 2015 05:57:17'"
       ]
      }
     ],
     "prompt_number": 42
    },
    {
     "cell_type": "code",
     "collapsed": false,
     "input": [
      "oldest_timestamp = time.gmtime(posts[len(posts)-1].created)\n",
      "time.strftime(\"%a, %d %b %Y %H:%M:%S\", oldest_timestamp)"
     ],
     "language": "python",
     "metadata": {},
     "outputs": [
      {
       "metadata": {},
       "output_type": "pyout",
       "prompt_number": 43,
       "text": [
        "'Thu, 25 Jun 2015 16:06:00'"
       ]
      }
     ],
     "prompt_number": 43
    },
    {
     "cell_type": "heading",
     "level": 1,
     "metadata": {},
     "source": [
      "Plots"
     ]
    },
    {
     "cell_type": "heading",
     "level": 3,
     "metadata": {},
     "source": [
      "Number of immigrant-related posts over time"
     ]
    },
    {
     "cell_type": "markdown",
     "metadata": {},
     "source": [
      "(broken down by link and text posts) (relative to total number of posts)"
     ]
    },
    {
     "cell_type": "heading",
     "level": 3,
     "metadata": {},
     "source": [
      "Popularity of immigrant-related posts over time"
     ]
    },
    {
     "cell_type": "markdown",
     "metadata": {},
     "source": [
      "(some sort of avg # of upvotes? avg # of comments?) -> engagement"
     ]
    },
    {
     "cell_type": "heading",
     "level": 3,
     "metadata": {},
     "source": [
      "How controversial over time"
     ]
    },
    {
     "cell_type": "markdown",
     "metadata": {},
     "source": [
      "(score? ratio of downvotes over upvotes, adjusted for popularity?)"
     ]
    },
    {
     "cell_type": "heading",
     "level": 3,
     "metadata": {},
     "source": [
      "Geographical spread"
     ]
    },
    {
     "cell_type": "markdown",
     "metadata": {},
     "source": [
      "(countries mentioned most often over time, domains of links, flair of posters, flair of commenters)"
     ]
    },
    {
     "cell_type": "heading",
     "level": 3,
     "metadata": {},
     "source": [
      "Text analysis"
     ]
    },
    {
     "cell_type": "markdown",
     "metadata": {},
     "source": [
      "for common words; ngrams & topics (in selftext & comments)"
     ]
    },
    {
     "cell_type": "heading",
     "level": 2,
     "metadata": {},
     "source": [
      "What info do we need from non-immigrant related posts to relativize?"
     ]
    },
    {
     "cell_type": "markdown",
     "metadata": {},
     "source": [
      "- total # of posts in time frame\n",
      "- same stats from those posts as from immigrant-related posts"
     ]
    },
    {
     "cell_type": "heading",
     "level": 2,
     "metadata": {},
     "source": [
      "/r/europe traffic statistics"
     ]
    },
    {
     "cell_type": "markdown",
     "metadata": {},
     "source": [
      "- take per day random samples from period of interest; figure out approx how many posts per day"
     ]
    },
    {
     "cell_type": "code",
     "collapsed": false,
     "input": [],
     "language": "python",
     "metadata": {},
     "outputs": []
    },
    {
     "cell_type": "heading",
     "level": 1,
     "metadata": {},
     "source": [
      "Other tools for background analysis"
     ]
    },
    {
     "cell_type": "markdown",
     "metadata": {},
     "source": [
      "- <a href=\"https://github.com/praw-dev/prawtools\">PrawTools</a> for subreddit stats"
     ]
    }
   ],
   "metadata": {}
  }
 ]
}